{
 "cells": [
  {
   "cell_type": "code",
   "execution_count": 1,
   "id": "efff87d5",
   "metadata": {},
   "outputs": [
    {
     "name": "stdout",
     "output_type": "stream",
     "text": [
      "Insert first value : 5\n",
      "Insert second Value : 5\n",
      "Insert operator : +\n",
      "answer is :  10\n"
     ]
    }
   ],
   "source": [
    "#1. Make a calculator using Python with addition , subtraction , multiplication , division and power.\n",
    "\n",
    "a = int(input(\"Insert first value : \"))\n",
    "b = int(input(\"Insert second Value : \"))\n",
    "operator = input(\"Insert operator : \")\n",
    "\n",
    "if operator == \"/\":\n",
    "    result = a / b\n",
    "    print(\"answer is : \",result)\n",
    "elif operator == \"*\":\n",
    "    result = a * b\n",
    "    print(\"answer is : \",result)\n",
    "elif operator == \"+\":\n",
    "    result = a + b\n",
    "    print(\"answer is : \",result)\n",
    "elif operator == \"-\":\n",
    "    result = a - b\n",
    "    print(\"answer is : \",result)\n",
    "elif operator == \"**\":\n",
    "    result = a ** b\n",
    "    print(\"answer is : \",result)\n",
    "else:\n",
    "    print(\"Please Insert Correct Operator!\")"
   ]
  },
  {
   "cell_type": "code",
   "execution_count": 4,
   "id": "50d77572",
   "metadata": {},
   "outputs": [
    {
     "name": "stdout",
     "output_type": "stream",
     "text": [
      "Enter Numeric Value : 6\n",
      "Not Found?\n",
      "Not Found?\n",
      "Not Found?\n",
      "Not Found?\n",
      "Not Found?\n",
      "Not Found?\n",
      "Not Found?\n",
      "Value Found!\n",
      "Not Found?\n"
     ]
    }
   ],
   "source": [
    "#2. Write a program to check if there is any numeric value in list using for loop.\n",
    "\n",
    "random_list = [\"Karachi\",\"1\",\"Apple\",\"Table\",\"54\",\"Dustbin\",\"43\",\"6\",\"23\"]\n",
    "\n",
    "a = input(\"Enter Numeric Value : \")\n",
    "\n",
    "for List in random_list:\n",
    "    if a == List:\n",
    "        print(\"Value Found!\")\n",
    "    else:\n",
    "        print(\"Not Found?\")"
   ]
  },
  {
   "cell_type": "code",
   "execution_count": 5,
   "id": "94dc1024",
   "metadata": {},
   "outputs": [
    {
     "name": "stdout",
     "output_type": "stream",
     "text": [
      "{'Book Name': 'See Monster', 'Publishers': 'Gaba', 'Release Date': '1-1-2011', 'Pages': '0 to 105'}\n"
     ]
    }
   ],
   "source": [
    "#3. Write a Python script to add a key to a dictionary.\n",
    "\n",
    "book = {\n",
    "\"Book Name\" : \"See Monster\",\n",
    "\"Publishers\" : \"Gaba\",\n",
    "\"Release Date\" : \"1-1-2011\"\n",
    "}\n",
    "book[\"Pages\"] = \"0 to 105\"\n",
    "print(book)"
   ]
  },
  {
   "cell_type": "code",
   "execution_count": 6,
   "id": "197d931f",
   "metadata": {},
   "outputs": [
    {
     "name": "stdout",
     "output_type": "stream",
     "text": [
      "610\n"
     ]
    }
   ],
   "source": [
    "#4. Write a Python program to sum all the numeric items in a dictionary.\n",
    "\n",
    "Location = {\n",
    "'Karachi': 0,\n",
    "'Lahore': 420,\n",
    "'Asia': 90,\n",
    "'Europe': 100\n",
    "}\n",
    "print(sum(Location.values()))"
   ]
  },
  {
   "cell_type": "code",
   "execution_count": 7,
   "id": "ce703996",
   "metadata": {},
   "outputs": [
    {
     "name": "stdout",
     "output_type": "stream",
     "text": [
      "[30, 0, 9, 15, 12, 'Ali', 'Bilal']\n"
     ]
    }
   ],
   "source": [
    "#5. Write a program to identify duplicate values from list.\n",
    "\n",
    "list = [ 0, 6, 9, 12, 30, \"Bilal\", 30, \"Ahmed\", \"Raza\", 0, 15, \"Ali\", 9, 15, 36, 12, 12, \"Ali\", \"Bilal\"]\n",
    "dupItems = []\n",
    "uniqItems = {}\n",
    "for x in list:\n",
    "    if x not in uniqItems:\n",
    "        uniqItems[x] = 1\n",
    "    else:\n",
    "        if uniqItems[x] == 1:\n",
    "            dupItems.append(x)\n",
    "        uniqItems[x] += 1\n",
    "print(dupItems)"
   ]
  },
  {
   "cell_type": "code",
   "execution_count": 8,
   "id": "854e475e",
   "metadata": {},
   "outputs": [
    {
     "name": "stdout",
     "output_type": "stream",
     "text": [
      "Insert Key : nickname\n",
      "No key does not exists in dict\n",
      "No key does not exists in dict\n",
      "Yes key exists in dict\n"
     ]
    }
   ],
   "source": [
    "#6. Write a Python script to check if a given key already exists in a dictionary.\n",
    "\n",
    "person = {\n",
    "  \"first_name\": \"Sarah\",\n",
    "  \"last_name\": \"Kerrigan\",\n",
    "  \"nickname\": \"Queen of Blades\"\n",
    "}\n",
    "\n",
    "a = input(\"Insert Key : \")\n",
    "\n",
    "for check in person:\n",
    "    if a == check:\n",
    "        print(\"Yes key exists in dict\")\n",
    "    else:\n",
    "        print(\"No key does not exists in dict\")"
   ]
  },
  {
   "cell_type": "code",
   "execution_count": null,
   "id": "7a1c45d2",
   "metadata": {},
   "outputs": [],
   "source": []
  }
 ],
 "metadata": {
  "kernelspec": {
   "display_name": "Python 3",
   "language": "python",
   "name": "python3"
  },
  "language_info": {
   "codemirror_mode": {
    "name": "ipython",
    "version": 3
   },
   "file_extension": ".py",
   "mimetype": "text/x-python",
   "name": "python",
   "nbconvert_exporter": "python",
   "pygments_lexer": "ipython3",
   "version": "3.8.8"
  }
 },
 "nbformat": 4,
 "nbformat_minor": 5
}
