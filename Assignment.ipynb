{
 "cells": [
  {
   "cell_type": "code",
   "execution_count": 1,
   "id": "e2c9062e",
   "metadata": {},
   "outputs": [
    {
     "name": "stdout",
     "output_type": "stream",
     "text": [
      "Twinkle, twinkle, little star,\n",
      "\tHow I wonder what you are! \n",
      "\t\tUp above the world so high\n",
      "\t\tLike a diamond in the sky.\n",
      "Twinkle, twinkle, little star,\n",
      "\tHow I wonder what you are! \n"
     ]
    }
   ],
   "source": [
    "#1. Write a Python program to print the following string in a specific format.\n",
    "\n",
    "\n",
    "print('Twinkle, twinkle, little star,')\n",
    "print('\\tHow I wonder what you are! ')\n",
    "print('\\t\\tUp above the world so high')\n",
    "print('\\t\\tLike a diamond in the sky.')\n",
    "print('Twinkle, twinkle, little star,')\n",
    "print('\\tHow I wonder what you are! ')"
   ]
  },
  {
   "cell_type": "code",
   "execution_count": 2,
   "id": "e2aaf4bc",
   "metadata": {},
   "outputs": [
    {
     "name": "stdout",
     "output_type": "stream",
     "text": [
      "Python version:-\n",
      "3.8.8 (default, Apr 13 2021, 15:08:07) [MSC v.1916 32 bit (Intel)]\n",
      "Version information:-\n",
      "sys.version_info(major=3, minor=8, micro=8, releaselevel='final', serial=0)\n"
     ]
    }
   ],
   "source": [
    "#2. Write a Python program to get the Python version you are using.\n",
    "\n",
    "\n",
    "import sys \n",
    "\n",
    "print (\"Python version:-\")\n",
    "print (sys.version)\n",
    "print (\"Version information:-\")\n",
    "print (sys.version_info)"
   ]
  },
  {
   "cell_type": "code",
   "execution_count": 3,
   "id": "68a67832",
   "metadata": {},
   "outputs": [
    {
     "name": "stdout",
     "output_type": "stream",
     "text": [
      "Current date and time:-  23/10/2021   10:36:58\n"
     ]
    }
   ],
   "source": [
    "#3. Write a Python program to display the current date and time.\n",
    "\n",
    "\n",
    "import datetime\n",
    "\n",
    "current = datetime.datetime.now()\n",
    "print (\"Current date and time:- \",current.strftime(\"%d/%m/%Y   %H:%M:%S\"))"
   ]
  },
  {
   "cell_type": "code",
   "execution_count": 4,
   "id": "9b180630",
   "metadata": {},
   "outputs": [
    {
     "name": "stdout",
     "output_type": "stream",
     "text": [
      "Input the radius of the circle : 5\n",
      "The area of the circle with radius 5.0 is: 78.53981633974483\n"
     ]
    }
   ],
   "source": [
    "#4. Write a Python program which accepts the radius of a circle from the user and compute the area.\n",
    "\n",
    "from math import pi\n",
    "r = float(input (\"Input the radius of the circle : \"))\n",
    "print (\"The area of the circle with radius \" + str(r) + \" is: \" + str(pi * r**2))"
   ]
  },
  {
   "cell_type": "code",
   "execution_count": 5,
   "id": "ef2ec9ca",
   "metadata": {},
   "outputs": [
    {
     "name": "stdout",
     "output_type": "stream",
     "text": [
      "First Name: Muhammad\n",
      "Last  Name: Taha\n",
      "Taha Muhammad\n"
     ]
    }
   ],
   "source": [
    "#5. Write a Python program which accepts the user's first and last name and print them in reverse order with a space between them.\n",
    "\n",
    "firstname = input(\"First Name: \")\n",
    "lastname = input(\"Last  Name: \")\n",
    "print(lastname,firstname)"
   ]
  },
  {
   "cell_type": "code",
   "execution_count": 6,
   "id": "18782f48",
   "metadata": {},
   "outputs": [
    {
     "name": "stdout",
     "output_type": "stream",
     "text": [
      "a = 10\n",
      "b = 90\n",
      "Sum of a and b = 100\n"
     ]
    }
   ],
   "source": [
    "#6. Write a python program which takes two inputs from user and print them addition.\n",
    "\n",
    "a1 = input(\"a = \")\n",
    "b1 = input(\"b = \")\n",
    "c = int(a1)+int(b1)\n",
    "print(\"Sum of a and b =\",c)"
   ]
  },
  {
   "cell_type": "code",
   "execution_count": 7,
   "id": "f1b68a85",
   "metadata": {},
   "outputs": [
    {
     "name": "stdout",
     "output_type": "stream",
     "text": [
      "Marks out of 100 / 50\n",
      "Marks out of 100 / 55\n",
      "Marks out of 100 / 76\n",
      "Marks out of 100 / 34\n",
      "Marks out of 100 / 97\n",
      "Totalmarks = 312\n",
      "Percentage = 62.4\n",
      "Grade B\n"
     ]
    }
   ],
   "source": [
    "#7. Write a program which takes 5 inputs from user for different subject’s marks, total it and generate mark sheet using grades.\n",
    "\n",
    "marks=[]\n",
    "totalmarks=0;\n",
    "for i in range (5):\n",
    "    a=int(input(\"Marks out of 100 / \"))\n",
    "  \n",
    "    marks.append(a)\n",
    "    totalmarks=totalmarks+a\n",
    "\n",
    "print(\"Totalmarks =\",totalmarks)  \n",
    "percentage=(totalmarks*100)/500\n",
    "print(\"Percentage =\",percentage)\n",
    "if percentage>=90:\n",
    "    print(\"Grade A+\")\n",
    "elif percentage>=80:\n",
    "    print(\"Grade A+\")\n",
    "elif percentage>=70:\n",
    "    print(\"Grade A\")    \n",
    "elif percentage>=60:\n",
    "    print(\"Grade B\") \n",
    "else:\n",
    "    print(\"Fail\")"
   ]
  },
  {
   "cell_type": "code",
   "execution_count": 8,
   "id": "dc3dea89",
   "metadata": {},
   "outputs": [
    {
     "name": "stdout",
     "output_type": "stream",
     "text": [
      "Enter Number : 2\n",
      "Mention below is an even number!\n"
     ]
    }
   ],
   "source": [
    "#8. Write a program which take input from user and identify that the given number is even or odd.\n",
    "\n",
    "Number = int(input(\"Enter Number : \"))\n",
    "if Number%2==0:\n",
    "    print(\"Mention below is an even number!\")\n",
    "else:\n",
    "    print(\"Mention below is an odd number!\")"
   ]
  },
  {
   "cell_type": "code",
   "execution_count": 9,
   "id": "d0f01018",
   "metadata": {},
   "outputs": [
    {
     "name": "stdout",
     "output_type": "stream",
     "text": [
      "Length of the list =  13\n"
     ]
    }
   ],
   "source": [
    "#9. Write a program which print the length of the list.\n",
    "\n",
    "list = [9,56,47,98,34,98,74,354,8795,234,6345,675,67867]\n",
    "print(\"Length of the list = \",len(list))"
   ]
  },
  {
   "cell_type": "code",
   "execution_count": 11,
   "id": "da6a3d7c",
   "metadata": {},
   "outputs": [
    {
     "name": "stdout",
     "output_type": "stream",
     "text": [
      "Sum of list =  84686\n"
     ]
    }
   ],
   "source": [
    "#10. Write a Python program to sum all the numeric items in a list.\n",
    "\n",
    "list = [9,56,47,98,34,98,74,354,8795,234,6345,675,67867]\n",
    "a = len(list)\n",
    "sum = 0\n",
    "for i in range (a):\n",
    "    sum=sum+list[i]\n",
    "print(\"Sum of list = \",sum)"
   ]
  },
  {
   "cell_type": "code",
   "execution_count": 13,
   "id": "c25a7865",
   "metadata": {},
   "outputs": [
    {
     "name": "stdout",
     "output_type": "stream",
     "text": [
      "Largest number from a list =  67867\n"
     ]
    }
   ],
   "source": [
    "#11. Write a Python program to get the largest number from a numeric list.\n",
    "\n",
    "list = [9,56,47,98,34,98,74,354,8795,234,6345,675,67867]\n",
    "\n",
    "print(\"Largest number from a list = \",max(list))"
   ]
  },
  {
   "cell_type": "code",
   "execution_count": 16,
   "id": "b0ddac30",
   "metadata": {},
   "outputs": [
    {
     "name": "stdout",
     "output_type": "stream",
     "text": [
      "2\n",
      "4\n",
      "1\n",
      "0\n"
     ]
    }
   ],
   "source": [
    "#12. Take a list, say for example this one: a = [1, 1, 2, 3, 5, 8, 13, 21, 34, 55, 89] and write a program that prints out all the elements of the list that are less than 5.\n",
    "\n",
    "list = [2,324,24,43,34,9,56,47,98,34,98,74,4,8795,234,6345,675,678676,5,66,1,99,96,12,0]\n",
    "a = len(list)\n",
    "for i in range(a):\n",
    "    if list[i]<5:\n",
    "        print(list[i])"
   ]
  },
  {
   "cell_type": "code",
   "execution_count": null,
   "id": "905b1fe3",
   "metadata": {},
   "outputs": [],
   "source": []
  }
 ],
 "metadata": {
  "kernelspec": {
   "display_name": "Python 3",
   "language": "python",
   "name": "python3"
  },
  "language_info": {
   "codemirror_mode": {
    "name": "ipython",
    "version": 3
   },
   "file_extension": ".py",
   "mimetype": "text/x-python",
   "name": "python",
   "nbconvert_exporter": "python",
   "pygments_lexer": "ipython3",
   "version": "3.8.8"
  }
 },
 "nbformat": 4,
 "nbformat_minor": 5
}
